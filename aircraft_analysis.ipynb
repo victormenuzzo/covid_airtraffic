{
 "cells": [
  {
   "cell_type": "code",
   "execution_count": 23,
   "metadata": {},
   "outputs": [],
   "source": [
    "import pandas as pd\n",
    "import seaborn as sns\n",
    "import gc"
   ]
  },
  {
   "cell_type": "code",
   "execution_count": 24,
   "metadata": {},
   "outputs": [
    {
     "data": {
      "text/plain": [
       "0"
      ]
     },
     "execution_count": 24,
     "metadata": {},
     "output_type": "execute_result"
    }
   ],
   "source": [
    "#2018\n",
    "df = pd.read_csv('data/filghts_2018_model.csv')\n",
    "\n",
    "#2019 p1\n",
    "df_2 = pd.read_csv('data/filghts_2019_1_model.csv')\n",
    "df = df.append(df_2)\n",
    "#clean memory\n",
    "del df_2\n",
    "gc.collect()\n",
    "\n",
    "#2019 p2\n",
    "df_3 = pd.read_csv('data/filghts_2019_2_model.csv')\n",
    "\n",
    "#full dataframe\n",
    "df = df.append(df_3)\n",
    "#clean memory\n",
    "del df_3\n",
    "gc.collect()\n",
    "\n",
    "#df2018 = pd.read_csv('data/filghts_2018_model.csv')\n",
    "#df2018.head()"
   ]
  },
  {
   "cell_type": "code",
   "execution_count": 25,
   "metadata": {},
   "outputs": [
    {
     "data": {
      "text/plain": [
       "<matplotlib.axes._subplots.AxesSubplot at 0x140f6ec1b38>"
      ]
     },
     "execution_count": 25,
     "metadata": {},
     "output_type": "execute_result"
    },
    {
     "data": {
      "image/png": "[encoded data removed]",
      "text/plain": [
       "<Figure size 432x288 with 1 Axes>"
      ]
     },
     "metadata": {},
     "output_type": "display_data"
    }
   ],
   "source": [
    "df.model.value_counts().iloc[:15].sort_values().plot(kind = 'barh')"
   ]
  },
  {
   "cell_type": "code",
   "execution_count": 60,
   "metadata": {},
   "outputs": [
    {
     "name": "stdout",
     "output_type": "stream",
     "text": [
      "temos 8666 modelos diferentes na base\n",
      "todos modelos representam um total de 23632008 aparições\n",
      "com 10 modelos atingimos 4386351 aparições (18.561059221036146%)\n",
      "com 25 modelos atingimos 7420213 aparições (31.398994956332103%)\n",
      "com 50 modelos atingimos 10229334 aparições (43.28592813611099%)\n",
      "com 100 modelos atingimos 13402275 aparições (56.71238347583498%)\n",
      "com 250 modelos atingimos 17467474 aparições (73.9144722699823%)\n",
      "com 500 modelos atingimos 20105140 aparições (85.07588521466309%)\n",
      "com 1000 modelos atingimos 21982883 aparições (93.02164674284133%)\n"
     ]
    }
   ],
   "source": [
    "total = df.model.count()\n",
    "def num_ap(n):\n",
    "    return sum(df.model.value_counts().iloc[:n])\n",
    "        \n",
    "print('temos {} modelos diferentes na base'.format(len(df.model.value_counts())))\n",
    "print('todos modelos representam um total de {} aparições'.format(total))\n",
    "\n",
    "numbers = [10, 25, 50, 100, 250, 500, 1000]\n",
    "for n in numbers:\n",
    "    print('com '+ str(n) +' modelos atingimos {} aparições ({}%)'.format(num_ap(n), (num_ap(n)/total)*100))"
   ]
  },
  {
   "cell_type": "code",
   "execution_count": 33,
   "metadata": {},
   "outputs": [
    {
     "data": {
      "text/plain": [
       "ERJ 170-200 LR    690122\n",
       "BOEING 737-8AS    606110\n",
       "A320 214          493308\n",
       "172S              459911\n",
       "A320-214          446804\n",
       "737-7H4           402242\n",
       "A320-232          371596\n",
       "A320 232          317326\n",
       "A321-231          308675\n",
       "CL-600-2D24       290257\n",
       "737-823           288760\n",
       "A320 214SL        278074\n",
       "737-8H4           231781\n",
       "PA-28-181         231011\n",
       "737-924ER         212919\n",
       "Name: model, dtype: int64"
      ]
     },
     "execution_count": 33,
     "metadata": {},
     "output_type": "execute_result"
    }
   ],
   "source": [
    "df.model.value_counts().iloc[:15]"
   ]
  },
  {
   "cell_type": "code",
   "execution_count": 43,
   "metadata": {},
   "outputs": [
    {
     "data": {
      "text/plain": [
       "ERJ 170-200 LR    690122\n",
       "BOEING 737-8AS    606110\n",
       "A320 214          493308\n",
       "172S              459911\n",
       "A320-214          446804\n",
       "                   ...  \n",
       "Alpha Jet 1B+          1\n",
       "G-202                  1\n",
       "CH-46E                 1\n",
       "PA-19                  1\n",
       "737 3M8SF              1\n",
       "Name: model, Length: 8666, dtype: int64"
      ]
     },
     "execution_count": 43,
     "metadata": {},
     "output_type": "execute_result"
    }
   ],
   "source": [
    "df.model.value_counts()"
   ]
  }
 ],
 "metadata": {
  "kernelspec": {
   "display_name": "Python 3",
   "language": "python",
   "name": "python3"
  },
  "language_info": {
   "codemirror_mode": {
    "name": "ipython",
    "version": 3
   },
   "file_extension": ".py",
   "mimetype": "text/x-python",
   "name": "python",
   "nbconvert_exporter": "python",
   "pygments_lexer": "ipython3",
   "version": "3.6.4"
  }
 },
 "nbformat": 4,
 "nbformat_minor": 2
}
