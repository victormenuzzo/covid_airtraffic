{
 "cells": [
  {
   "cell_type": "code",
   "execution_count": 1,
   "metadata": {},
   "outputs": [],
   "source": [
    "import pandas as pd\n",
    "import seaborn as sns\n",
    "import matplotlib.pyplot as plt\n",
    "import numpy as np\n",
    "import pycountry_convert as pc"
   ]
  },
  {
   "cell_type": "markdown",
   "metadata": {},
   "source": [
    "# Loading Data"
   ]
  },
  {
   "cell_type": "markdown",
   "metadata": {},
   "source": [
    "## Gross Domestic Product"
   ]
  },
  {
   "cell_type": "code",
   "execution_count": 2,
   "metadata": {},
   "outputs": [],
   "source": [
    "#countries income group\n",
    "df_gdp_group = pd.read_csv('data/gdp_group.csv', delimiter =';')\n",
    "df_gdp_group = df_gdp_group[['TableName', 'IncomeGroup']]\n",
    "df_gdp_group.columns = ['pais', 'IncomeGroup']\n",
    "\n",
    "#gdp percapita\n",
    "df_gdp_pc = pd.read_csv('data/gdp_percapita.csv', delimiter =';', dtype={'2018': np.float32})\n",
    "df_gdp_pc.columns = ['pais', 'gdp_pc']\n",
    "\n",
    "#gdp\n",
    "df_gdp = pd.read_csv('data/gdp_values.csv', delimiter =';', dtype={'2018': np.float32})\n",
    "df_gdp.columns = ['pais', 'gdp']"
   ]
  },
  {
   "cell_type": "markdown",
   "metadata": {},
   "source": [
    "## Flights Percent Loss"
   ]
  },
  {
   "cell_type": "code",
   "execution_count": 3,
   "metadata": {},
   "outputs": [],
   "source": [
    "df_pct_loss = pd.read_csv('data/flights_pct_loss.csv')"
   ]
  },
  {
   "cell_type": "code",
   "execution_count": 4,
   "metadata": {},
   "outputs": [
    {
     "data": {
      "text/html": [
       "<div>\n",
       "<style scoped>\n",
       "    .dataframe tbody tr th:only-of-type {\n",
       "        vertical-align: middle;\n",
       "    }\n",
       "\n",
       "    .dataframe tbody tr th {\n",
       "        vertical-align: top;\n",
       "    }\n",
       "\n",
       "    .dataframe thead th {\n",
       "        text-align: right;\n",
       "    }\n",
       "</style>\n",
       "<table border=\"1\" class=\"dataframe\">\n",
       "  <thead>\n",
       "    <tr style=\"text-align: right;\">\n",
       "      <th></th>\n",
       "      <th>pais</th>\n",
       "      <th>pct_loss</th>\n",
       "    </tr>\n",
       "  </thead>\n",
       "  <tbody>\n",
       "    <tr>\n",
       "      <th>12</th>\n",
       "      <td>Brazil</td>\n",
       "      <td>0.975963</td>\n",
       "    </tr>\n",
       "  </tbody>\n",
       "</table>\n",
       "</div>"
      ],
      "text/plain": [
       "      pais  pct_loss\n",
       "12  Brazil  0.975963"
      ]
     },
     "execution_count": 4,
     "metadata": {},
     "output_type": "execute_result"
    }
   ],
   "source": [
    "df_pct_loss[df_pct_loss.pais =='Brazil']"
   ]
  },
  {
   "cell_type": "markdown",
   "metadata": {},
   "source": [
    "## Economic Impact"
   ]
  },
  {
   "cell_type": "code",
   "execution_count": 5,
   "metadata": {},
   "outputs": [],
   "source": [
    "df_eco_impct = pd.read_csv('data/all_variables_response_economic_countries.csv')\n",
    "df_eco_impct = df_eco_impct[['Country', 'Output-CLI percent impact']]\n",
    "df_eco_impct.columns = ['pais', 'Output-CLI percent impact']"
   ]
  },
  {
   "cell_type": "markdown",
   "metadata": {},
   "source": [
    "## Population"
   ]
  },
  {
   "cell_type": "code",
   "execution_count": 6,
   "metadata": {},
   "outputs": [],
   "source": [
    "df_pop = pd.read_csv('data/socio_stats_countries.csv')\n",
    "\n",
    "df_pop = df_pop[df_pop.variable == 'Population']\n",
    "df_pop = df_pop[['Name', 'value']]\n",
    "df_pop.columns = ['pais', 'pop']"
   ]
  },
  {
   "cell_type": "markdown",
   "metadata": {},
   "source": [
    "## Covid Deaths"
   ]
  },
  {
   "cell_type": "code",
   "execution_count": 7,
   "metadata": {},
   "outputs": [],
   "source": [
    "df_covid = pd.read_csv('data/total_cases_countries_normalized.csv')\n",
    "df_covid = df_covid[df_covid.Date == '2020-03-31']\n",
    "df_covid = df_covid[['Name', 'TotalDeaths']]\n",
    "df_covid.columns = ['pais', 'TotalDeaths31/03']"
   ]
  },
  {
   "cell_type": "markdown",
   "metadata": {},
   "source": [
    "## Merging DataFrames"
   ]
  },
  {
   "cell_type": "code",
   "execution_count": 8,
   "metadata": {},
   "outputs": [],
   "source": [
    "df = df_pct_loss.merge(df_gdp_group, 'left', on = 'pais')\n",
    "df = df.merge(df_gdp, 'left', on = 'pais')\n",
    "df = df.merge(df_gdp_pc, 'left', on = 'pais')\n",
    "df = df.merge(df_eco_impct, 'left', on = 'pais')\n",
    "df = df.merge(df_pop, 'left', on = 'pais')\n",
    "df = df.merge(df_covid, 'left', on = 'pais')"
   ]
  },
  {
   "cell_type": "markdown",
   "metadata": {},
   "source": [
    "## Getting Continent Column"
   ]
  },
  {
   "cell_type": "code",
   "execution_count": 9,
   "metadata": {},
   "outputs": [],
   "source": [
    "def country_to_continent(country_name):\n",
    "    country_alpha2 = pc.country_name_to_country_alpha2(country_name)\n",
    "    country_continent_code = pc.country_alpha2_to_continent_code(country_alpha2)\n",
    "    country_continent_name = pc.convert_continent_code_to_continent_name(country_continent_code)\n",
    "    return country_continent_name\n",
    "\n",
    "df['continent'] = df['pais'].apply(lambda x: country_to_continent(x))"
   ]
  },
  {
   "cell_type": "code",
   "execution_count": 10,
   "metadata": {},
   "outputs": [
    {
     "data": {
      "text/html": [
       "<div>\n",
       "<style scoped>\n",
       "    .dataframe tbody tr th:only-of-type {\n",
       "        vertical-align: middle;\n",
       "    }\n",
       "\n",
       "    .dataframe tbody tr th {\n",
       "        vertical-align: top;\n",
       "    }\n",
       "\n",
       "    .dataframe thead th {\n",
       "        text-align: right;\n",
       "    }\n",
       "</style>\n",
       "<table border=\"1\" class=\"dataframe\">\n",
       "  <thead>\n",
       "    <tr style=\"text-align: right;\">\n",
       "      <th></th>\n",
       "      <th>pais</th>\n",
       "      <th>pct_loss</th>\n",
       "      <th>IncomeGroup</th>\n",
       "      <th>gdp</th>\n",
       "      <th>gdp_pc</th>\n",
       "      <th>Output-CLI percent impact</th>\n",
       "      <th>pop</th>\n",
       "      <th>TotalDeaths31/03</th>\n",
       "      <th>continent</th>\n",
       "    </tr>\n",
       "  </thead>\n",
       "  <tbody>\n",
       "    <tr>\n",
       "      <th>0</th>\n",
       "      <td>Algeria</td>\n",
       "      <td>0.980702</td>\n",
       "      <td>Upper middle income</td>\n",
       "      <td>1.740000e+11</td>\n",
       "      <td>4.114715e+09</td>\n",
       "      <td>NaN</td>\n",
       "      <td>42228429.0</td>\n",
       "      <td>35.0</td>\n",
       "      <td>Africa</td>\n",
       "    </tr>\n",
       "    <tr>\n",
       "      <th>1</th>\n",
       "      <td>Argentina</td>\n",
       "      <td>0.964256</td>\n",
       "      <td>Upper middle income</td>\n",
       "      <td>5.200000e+11</td>\n",
       "      <td>1.168395e+09</td>\n",
       "      <td>NaN</td>\n",
       "      <td>44494502.0</td>\n",
       "      <td>24.0</td>\n",
       "      <td>South America</td>\n",
       "    </tr>\n",
       "    <tr>\n",
       "      <th>2</th>\n",
       "      <td>Armenia</td>\n",
       "      <td>0.970880</td>\n",
       "      <td>Upper middle income</td>\n",
       "      <td>1.243309e+10</td>\n",
       "      <td>4.212071e+09</td>\n",
       "      <td>NaN</td>\n",
       "      <td>2951776.0</td>\n",
       "      <td>3.0</td>\n",
       "      <td>Asia</td>\n",
       "    </tr>\n",
       "    <tr>\n",
       "      <th>3</th>\n",
       "      <td>Australia</td>\n",
       "      <td>0.975961</td>\n",
       "      <td>High income</td>\n",
       "      <td>1.430000e+12</td>\n",
       "      <td>5.737369e+09</td>\n",
       "      <td>3.599705</td>\n",
       "      <td>24982688.0</td>\n",
       "      <td>19.0</td>\n",
       "      <td>Oceania</td>\n",
       "    </tr>\n",
       "    <tr>\n",
       "      <th>4</th>\n",
       "      <td>Austria</td>\n",
       "      <td>0.991961</td>\n",
       "      <td>High income</td>\n",
       "      <td>4.550000e+11</td>\n",
       "      <td>5.146195e+09</td>\n",
       "      <td>4.747321</td>\n",
       "      <td>8840521.0</td>\n",
       "      <td>108.0</td>\n",
       "      <td>Europe</td>\n",
       "    </tr>\n",
       "    <tr>\n",
       "      <th>...</th>\n",
       "      <td>...</td>\n",
       "      <td>...</td>\n",
       "      <td>...</td>\n",
       "      <td>...</td>\n",
       "      <td>...</td>\n",
       "      <td>...</td>\n",
       "      <td>...</td>\n",
       "      <td>...</td>\n",
       "      <td>...</td>\n",
       "    </tr>\n",
       "    <tr>\n",
       "      <th>81</th>\n",
       "      <td>Ukraine</td>\n",
       "      <td>0.987525</td>\n",
       "      <td>Lower middle income</td>\n",
       "      <td>1.310000e+11</td>\n",
       "      <td>3.095174e+09</td>\n",
       "      <td>NaN</td>\n",
       "      <td>44622516.0</td>\n",
       "      <td>11.0</td>\n",
       "      <td>Europe</td>\n",
       "    </tr>\n",
       "    <tr>\n",
       "      <th>82</th>\n",
       "      <td>United Arab Emirates</td>\n",
       "      <td>0.959650</td>\n",
       "      <td>High income</td>\n",
       "      <td>4.140000e+11</td>\n",
       "      <td>4.300495e+09</td>\n",
       "      <td>NaN</td>\n",
       "      <td>9630959.0</td>\n",
       "      <td>5.0</td>\n",
       "      <td>Asia</td>\n",
       "    </tr>\n",
       "    <tr>\n",
       "      <th>83</th>\n",
       "      <td>United Kingdom</td>\n",
       "      <td>0.983514</td>\n",
       "      <td>High income</td>\n",
       "      <td>2.860000e+12</td>\n",
       "      <td>4.294390e+09</td>\n",
       "      <td>7.390182</td>\n",
       "      <td>66460344.0</td>\n",
       "      <td>2043.0</td>\n",
       "      <td>Europe</td>\n",
       "    </tr>\n",
       "    <tr>\n",
       "      <th>84</th>\n",
       "      <td>United States</td>\n",
       "      <td>0.831540</td>\n",
       "      <td>High income</td>\n",
       "      <td>2.050000e+13</td>\n",
       "      <td>6.279459e+09</td>\n",
       "      <td>1.749506</td>\n",
       "      <td>326687501.0</td>\n",
       "      <td>3170.0</td>\n",
       "      <td>North America</td>\n",
       "    </tr>\n",
       "    <tr>\n",
       "      <th>85</th>\n",
       "      <td>Vietnam</td>\n",
       "      <td>-1.311888</td>\n",
       "      <td>Lower middle income</td>\n",
       "      <td>2.450000e+11</td>\n",
       "      <td>2.566597e+08</td>\n",
       "      <td>NaN</td>\n",
       "      <td>95540395.0</td>\n",
       "      <td>0.0</td>\n",
       "      <td>Asia</td>\n",
       "    </tr>\n",
       "  </tbody>\n",
       "</table>\n",
       "<p>86 rows × 9 columns</p>\n",
       "</div>"
      ],
      "text/plain": [
       "                    pais  pct_loss          IncomeGroup           gdp  \\\n",
       "0                Algeria  0.980702  Upper middle income  1.740000e+11   \n",
       "1              Argentina  0.964256  Upper middle income  5.200000e+11   \n",
       "2                Armenia  0.970880  Upper middle income  1.243309e+10   \n",
       "3              Australia  0.975961          High income  1.430000e+12   \n",
       "4                Austria  0.991961          High income  4.550000e+11   \n",
       "..                   ...       ...                  ...           ...   \n",
       "81               Ukraine  0.987525  Lower middle income  1.310000e+11   \n",
       "82  United Arab Emirates  0.959650          High income  4.140000e+11   \n",
       "83        United Kingdom  0.983514          High income  2.860000e+12   \n",
       "84         United States  0.831540          High income  2.050000e+13   \n",
       "85               Vietnam -1.311888  Lower middle income  2.450000e+11   \n",
       "\n",
       "          gdp_pc  Output-CLI percent impact          pop  TotalDeaths31/03  \\\n",
       "0   4.114715e+09                        NaN   42228429.0              35.0   \n",
       "1   1.168395e+09                        NaN   44494502.0              24.0   \n",
       "2   4.212071e+09                        NaN    2951776.0               3.0   \n",
       "3   5.737369e+09                   3.599705   24982688.0              19.0   \n",
       "4   5.146195e+09                   4.747321    8840521.0             108.0   \n",
       "..           ...                        ...          ...               ...   \n",
       "81  3.095174e+09                        NaN   44622516.0              11.0   \n",
       "82  4.300495e+09                        NaN    9630959.0               5.0   \n",
       "83  4.294390e+09                   7.390182   66460344.0            2043.0   \n",
       "84  6.279459e+09                   1.749506  326687501.0            3170.0   \n",
       "85  2.566597e+08                        NaN   95540395.0               0.0   \n",
       "\n",
       "        continent  \n",
       "0          Africa  \n",
       "1   South America  \n",
       "2            Asia  \n",
       "3         Oceania  \n",
       "4          Europe  \n",
       "..            ...  \n",
       "81         Europe  \n",
       "82           Asia  \n",
       "83         Europe  \n",
       "84  North America  \n",
       "85           Asia  \n",
       "\n",
       "[86 rows x 9 columns]"
      ]
     },
     "execution_count": 10,
     "metadata": {},
     "output_type": "execute_result"
    }
   ],
   "source": [
    "df"
   ]
  },
  {
   "cell_type": "markdown",
   "metadata": {},
   "source": [
    "# Plots"
   ]
  },
  {
   "cell_type": "code",
   "execution_count": 11,
   "metadata": {},
   "outputs": [
    {
     "data": {
      "image/png": "[encoded data removed]",
      "text/plain": [
       "<Figure size 432x288 with 1 Axes>"
      ]
     },
     "metadata": {},
     "output_type": "display_data"
    }
   ],
   "source": [
    "ax = sns.scatterplot(x=\"pct_loss\", y=\"gdp\", hue=\"IncomeGroup\", data=df[df.pct_loss > 0.8])\n",
    "ax.set(yticks=[])\n",
    "plt.show()"
   ]
  },
  {
   "cell_type": "code",
   "execution_count": 112,
   "metadata": {},
   "outputs": [
    {
     "data": {
      "text/html": [
       "<div>\n",
       "<style scoped>\n",
       "    .dataframe tbody tr th:only-of-type {\n",
       "        vertical-align: middle;\n",
       "    }\n",
       "\n",
       "    .dataframe tbody tr th {\n",
       "        vertical-align: top;\n",
       "    }\n",
       "\n",
       "    .dataframe thead th {\n",
       "        text-align: right;\n",
       "    }\n",
       "</style>\n",
       "<table border=\"1\" class=\"dataframe\">\n",
       "  <thead>\n",
       "    <tr style=\"text-align: right;\">\n",
       "      <th></th>\n",
       "      <th>pais</th>\n",
       "      <th>pct_loss</th>\n",
       "      <th>IncomeGroup</th>\n",
       "      <th>gdp</th>\n",
       "      <th>gdp_pc</th>\n",
       "      <th>Output-CLI percent impact</th>\n",
       "      <th>pop</th>\n",
       "      <th>TotalDeaths31/03</th>\n",
       "      <th>continent</th>\n",
       "    </tr>\n",
       "  </thead>\n",
       "  <tbody>\n",
       "    <tr>\n",
       "      <th>84</th>\n",
       "      <td>United States</td>\n",
       "      <td>0.831540</td>\n",
       "      <td>High income</td>\n",
       "      <td>2.050000e+13</td>\n",
       "      <td>6.279459e+09</td>\n",
       "      <td>1.749506</td>\n",
       "      <td>3.266875e+08</td>\n",
       "      <td>3170.0</td>\n",
       "      <td>North America</td>\n",
       "    </tr>\n",
       "    <tr>\n",
       "      <th>17</th>\n",
       "      <td>China</td>\n",
       "      <td>-1.846326</td>\n",
       "      <td>Upper middle income</td>\n",
       "      <td>1.360000e+13</td>\n",
       "      <td>9.770847e+09</td>\n",
       "      <td>1.640852</td>\n",
       "      <td>1.392730e+09</td>\n",
       "      <td>3309.0</td>\n",
       "      <td>Asia</td>\n",
       "    </tr>\n",
       "    <tr>\n",
       "      <th>42</th>\n",
       "      <td>Japan</td>\n",
       "      <td>0.579481</td>\n",
       "      <td>High income</td>\n",
       "      <td>4.970000e+12</td>\n",
       "      <td>3.928996e+09</td>\n",
       "      <td>1.623814</td>\n",
       "      <td>1.265291e+08</td>\n",
       "      <td>56.0</td>\n",
       "      <td>Asia</td>\n",
       "    </tr>\n",
       "    <tr>\n",
       "      <th>30</th>\n",
       "      <td>Germany</td>\n",
       "      <td>0.976745</td>\n",
       "      <td>High income</td>\n",
       "      <td>3.950000e+12</td>\n",
       "      <td>4.760303e+09</td>\n",
       "      <td>5.248947</td>\n",
       "      <td>8.290578e+07</td>\n",
       "      <td>583.0</td>\n",
       "      <td>Europe</td>\n",
       "    </tr>\n",
       "    <tr>\n",
       "      <th>83</th>\n",
       "      <td>United Kingdom</td>\n",
       "      <td>0.983514</td>\n",
       "      <td>High income</td>\n",
       "      <td>2.860000e+12</td>\n",
       "      <td>4.294390e+09</td>\n",
       "      <td>7.390182</td>\n",
       "      <td>6.646034e+07</td>\n",
       "      <td>2043.0</td>\n",
       "      <td>Europe</td>\n",
       "    </tr>\n",
       "    <tr>\n",
       "      <th>27</th>\n",
       "      <td>France</td>\n",
       "      <td>0.987436</td>\n",
       "      <td>High income</td>\n",
       "      <td>2.780000e+12</td>\n",
       "      <td>4.146364e+09</td>\n",
       "      <td>6.520510</td>\n",
       "      <td>6.697711e+07</td>\n",
       "      <td>3024.0</td>\n",
       "      <td>Europe</td>\n",
       "    </tr>\n",
       "    <tr>\n",
       "      <th>37</th>\n",
       "      <td>India</td>\n",
       "      <td>0.991254</td>\n",
       "      <td>Lower middle income</td>\n",
       "      <td>2.720000e+12</td>\n",
       "      <td>2.009979e+09</td>\n",
       "      <td>4.652658</td>\n",
       "      <td>1.352617e+09</td>\n",
       "      <td>32.0</td>\n",
       "      <td>Asia</td>\n",
       "    </tr>\n",
       "    <tr>\n",
       "      <th>41</th>\n",
       "      <td>Italy</td>\n",
       "      <td>0.989611</td>\n",
       "      <td>High income</td>\n",
       "      <td>2.080000e+12</td>\n",
       "      <td>3.448320e+07</td>\n",
       "      <td>4.068059</td>\n",
       "      <td>6.042176e+07</td>\n",
       "      <td>11591.0</td>\n",
       "      <td>Europe</td>\n",
       "    </tr>\n",
       "    <tr>\n",
       "      <th>12</th>\n",
       "      <td>Brazil</td>\n",
       "      <td>0.975963</td>\n",
       "      <td>Upper middle income</td>\n",
       "      <td>1.870000e+12</td>\n",
       "      <td>8.920762e+09</td>\n",
       "      <td>5.880663</td>\n",
       "      <td>2.094693e+08</td>\n",
       "      <td>159.0</td>\n",
       "      <td>South America</td>\n",
       "    </tr>\n",
       "    <tr>\n",
       "      <th>15</th>\n",
       "      <td>Canada</td>\n",
       "      <td>0.922553</td>\n",
       "      <td>High income</td>\n",
       "      <td>1.710000e+12</td>\n",
       "      <td>4.623299e+09</td>\n",
       "      <td>2.116261</td>\n",
       "      <td>3.705776e+07</td>\n",
       "      <td>89.0</td>\n",
       "      <td>North America</td>\n",
       "    </tr>\n",
       "  </tbody>\n",
       "</table>\n",
       "</div>"
      ],
      "text/plain": [
       "              pais  pct_loss          IncomeGroup           gdp        gdp_pc  \\\n",
       "84   United States  0.831540          High income  2.050000e+13  6.279459e+09   \n",
       "17           China -1.846326  Upper middle income  1.360000e+13  9.770847e+09   \n",
       "42           Japan  0.579481          High income  4.970000e+12  3.928996e+09   \n",
       "30         Germany  0.976745          High income  3.950000e+12  4.760303e+09   \n",
       "83  United Kingdom  0.983514          High income  2.860000e+12  4.294390e+09   \n",
       "27          France  0.987436          High income  2.780000e+12  4.146364e+09   \n",
       "37           India  0.991254  Lower middle income  2.720000e+12  2.009979e+09   \n",
       "41           Italy  0.989611          High income  2.080000e+12  3.448320e+07   \n",
       "12          Brazil  0.975963  Upper middle income  1.870000e+12  8.920762e+09   \n",
       "15          Canada  0.922553          High income  1.710000e+12  4.623299e+09   \n",
       "\n",
       "    Output-CLI percent impact           pop  TotalDeaths31/03      continent  \n",
       "84                   1.749506  3.266875e+08            3170.0  North America  \n",
       "17                   1.640852  1.392730e+09            3309.0           Asia  \n",
       "42                   1.623814  1.265291e+08              56.0           Asia  \n",
       "30                   5.248947  8.290578e+07             583.0         Europe  \n",
       "83                   7.390182  6.646034e+07            2043.0         Europe  \n",
       "27                   6.520510  6.697711e+07            3024.0         Europe  \n",
       "37                   4.652658  1.352617e+09              32.0           Asia  \n",
       "41                   4.068059  6.042176e+07           11591.0         Europe  \n",
       "12                   5.880663  2.094693e+08             159.0  South America  \n",
       "15                   2.116261  3.705776e+07              89.0  North America  "
      ]
     },
     "execution_count": 112,
     "metadata": {},
     "output_type": "execute_result"
    }
   ],
   "source": [
    "df.nlargest(10, 'gdp')"
   ]
  },
  {
   "cell_type": "code",
   "execution_count": 113,
   "metadata": {},
   "outputs": [
    {
     "data": {
      "text/html": [
       "<div>\n",
       "<style scoped>\n",
       "    .dataframe tbody tr th:only-of-type {\n",
       "        vertical-align: middle;\n",
       "    }\n",
       "\n",
       "    .dataframe tbody tr th {\n",
       "        vertical-align: top;\n",
       "    }\n",
       "\n",
       "    .dataframe thead th {\n",
       "        text-align: right;\n",
       "    }\n",
       "</style>\n",
       "<table border=\"1\" class=\"dataframe\">\n",
       "  <thead>\n",
       "    <tr style=\"text-align: right;\">\n",
       "      <th></th>\n",
       "      <th>pais</th>\n",
       "      <th>pct_loss</th>\n",
       "      <th>IncomeGroup</th>\n",
       "      <th>gdp</th>\n",
       "      <th>gdp_pc</th>\n",
       "      <th>Output-CLI percent impact</th>\n",
       "      <th>pop</th>\n",
       "      <th>TotalDeaths31/03</th>\n",
       "      <th>continent</th>\n",
       "    </tr>\n",
       "  </thead>\n",
       "  <tbody>\n",
       "    <tr>\n",
       "      <th>7</th>\n",
       "      <td>Barbados</td>\n",
       "      <td>0.939344</td>\n",
       "      <td>High income</td>\n",
       "      <td>5.145000e+09</td>\n",
       "      <td>1.794928e+09</td>\n",
       "      <td>NaN</td>\n",
       "      <td>286641.0</td>\n",
       "      <td>0.0</td>\n",
       "      <td>North America</td>\n",
       "    </tr>\n",
       "    <tr>\n",
       "      <th>2</th>\n",
       "      <td>Armenia</td>\n",
       "      <td>0.970880</td>\n",
       "      <td>Upper middle income</td>\n",
       "      <td>1.243309e+10</td>\n",
       "      <td>4.212071e+09</td>\n",
       "      <td>NaN</td>\n",
       "      <td>2951776.0</td>\n",
       "      <td>3.0</td>\n",
       "      <td>Asia</td>\n",
       "    </tr>\n",
       "    <tr>\n",
       "      <th>50</th>\n",
       "      <td>Malta</td>\n",
       "      <td>0.982463</td>\n",
       "      <td>High income</td>\n",
       "      <td>1.455342e+10</td>\n",
       "      <td>3.009828e+09</td>\n",
       "      <td>NaN</td>\n",
       "      <td>484630.0</td>\n",
       "      <td>0.0</td>\n",
       "      <td>Europe</td>\n",
       "    </tr>\n",
       "    <tr>\n",
       "      <th>29</th>\n",
       "      <td>Georgia</td>\n",
       "      <td>0.897198</td>\n",
       "      <td>Upper middle income</td>\n",
       "      <td>1.759966e+10</td>\n",
       "      <td>4.717143e+09</td>\n",
       "      <td>NaN</td>\n",
       "      <td>3726549.0</td>\n",
       "      <td>0.0</td>\n",
       "      <td>Asia</td>\n",
       "    </tr>\n",
       "    <tr>\n",
       "      <th>66</th>\n",
       "      <td>Senegal</td>\n",
       "      <td>0.948766</td>\n",
       "      <td>Lower middle income</td>\n",
       "      <td>2.412960e+10</td>\n",
       "      <td>1.521954e+09</td>\n",
       "      <td>NaN</td>\n",
       "      <td>15854360.0</td>\n",
       "      <td>0.0</td>\n",
       "      <td>Africa</td>\n",
       "    </tr>\n",
       "    <tr>\n",
       "      <th>21</th>\n",
       "      <td>Cyprus</td>\n",
       "      <td>0.960036</td>\n",
       "      <td>High income</td>\n",
       "      <td>2.496199e+10</td>\n",
       "      <td>2.868970e+09</td>\n",
       "      <td>NaN</td>\n",
       "      <td>1189265.0</td>\n",
       "      <td>7.0</td>\n",
       "      <td>Asia</td>\n",
       "    </tr>\n",
       "    <tr>\n",
       "      <th>36</th>\n",
       "      <td>Iceland</td>\n",
       "      <td>0.977769</td>\n",
       "      <td>High income</td>\n",
       "      <td>2.587847e+10</td>\n",
       "      <td>7.319112e+09</td>\n",
       "      <td>1.194950</td>\n",
       "      <td>352721.0</td>\n",
       "      <td>2.0</td>\n",
       "      <td>Europe</td>\n",
       "    </tr>\n",
       "    <tr>\n",
       "      <th>25</th>\n",
       "      <td>Estonia</td>\n",
       "      <td>0.969849</td>\n",
       "      <td>High income</td>\n",
       "      <td>3.073214e+10</td>\n",
       "      <td>2.326635e+09</td>\n",
       "      <td>-1.412185</td>\n",
       "      <td>1321977.0</td>\n",
       "      <td>3.0</td>\n",
       "      <td>Europe</td>\n",
       "    </tr>\n",
       "    <tr>\n",
       "      <th>45</th>\n",
       "      <td>Latvia</td>\n",
       "      <td>0.986992</td>\n",
       "      <td>High income</td>\n",
       "      <td>3.440923e+10</td>\n",
       "      <td>1.786062e+08</td>\n",
       "      <td>NaN</td>\n",
       "      <td>1927174.0</td>\n",
       "      <td>0.0</td>\n",
       "      <td>Europe</td>\n",
       "    </tr>\n",
       "    <tr>\n",
       "      <th>5</th>\n",
       "      <td>Bahrain</td>\n",
       "      <td>0.944793</td>\n",
       "      <td>High income</td>\n",
       "      <td>3.774620e+10</td>\n",
       "      <td>2.405076e+09</td>\n",
       "      <td>NaN</td>\n",
       "      <td>1569439.0</td>\n",
       "      <td>4.0</td>\n",
       "      <td>Asia</td>\n",
       "    </tr>\n",
       "  </tbody>\n",
       "</table>\n",
       "</div>"
      ],
      "text/plain": [
       "        pais  pct_loss          IncomeGroup           gdp        gdp_pc  \\\n",
       "7   Barbados  0.939344          High income  5.145000e+09  1.794928e+09   \n",
       "2    Armenia  0.970880  Upper middle income  1.243309e+10  4.212071e+09   \n",
       "50     Malta  0.982463          High income  1.455342e+10  3.009828e+09   \n",
       "29   Georgia  0.897198  Upper middle income  1.759966e+10  4.717143e+09   \n",
       "66   Senegal  0.948766  Lower middle income  2.412960e+10  1.521954e+09   \n",
       "21    Cyprus  0.960036          High income  2.496199e+10  2.868970e+09   \n",
       "36   Iceland  0.977769          High income  2.587847e+10  7.319112e+09   \n",
       "25   Estonia  0.969849          High income  3.073214e+10  2.326635e+09   \n",
       "45    Latvia  0.986992          High income  3.440923e+10  1.786062e+08   \n",
       "5    Bahrain  0.944793          High income  3.774620e+10  2.405076e+09   \n",
       "\n",
       "    Output-CLI percent impact         pop  TotalDeaths31/03      continent  \n",
       "7                         NaN    286641.0               0.0  North America  \n",
       "2                         NaN   2951776.0               3.0           Asia  \n",
       "50                        NaN    484630.0               0.0         Europe  \n",
       "29                        NaN   3726549.0               0.0           Asia  \n",
       "66                        NaN  15854360.0               0.0         Africa  \n",
       "21                        NaN   1189265.0               7.0           Asia  \n",
       "36                   1.194950    352721.0               2.0         Europe  \n",
       "25                  -1.412185   1321977.0               3.0         Europe  \n",
       "45                        NaN   1927174.0               0.0         Europe  \n",
       "5                         NaN   1569439.0               4.0           Asia  "
      ]
     },
     "execution_count": 113,
     "metadata": {},
     "output_type": "execute_result"
    }
   ],
   "source": [
    "df.nsmallest(10, 'gdp')"
   ]
  },
  {
   "cell_type": "code",
   "execution_count": 114,
   "metadata": {},
   "outputs": [
    {
     "data": {
      "text/html": [
       "<div>\n",
       "<style scoped>\n",
       "    .dataframe tbody tr th:only-of-type {\n",
       "        vertical-align: middle;\n",
       "    }\n",
       "\n",
       "    .dataframe tbody tr th {\n",
       "        vertical-align: top;\n",
       "    }\n",
       "\n",
       "    .dataframe thead th {\n",
       "        text-align: right;\n",
       "    }\n",
       "</style>\n",
       "<table border=\"1\" class=\"dataframe\">\n",
       "  <thead>\n",
       "    <tr style=\"text-align: right;\">\n",
       "      <th></th>\n",
       "      <th>gdp</th>\n",
       "      <th>pct_loss</th>\n",
       "    </tr>\n",
       "  </thead>\n",
       "  <tbody>\n",
       "    <tr>\n",
       "      <th>gdp</th>\n",
       "      <td>1.000000</td>\n",
       "      <td>-0.140849</td>\n",
       "    </tr>\n",
       "    <tr>\n",
       "      <th>pct_loss</th>\n",
       "      <td>-0.140849</td>\n",
       "      <td>1.000000</td>\n",
       "    </tr>\n",
       "  </tbody>\n",
       "</table>\n",
       "</div>"
      ],
      "text/plain": [
       "               gdp  pct_loss\n",
       "gdp       1.000000 -0.140849\n",
       "pct_loss -0.140849  1.000000"
      ]
     },
     "execution_count": 114,
     "metadata": {},
     "output_type": "execute_result"
    }
   ],
   "source": [
    "df[['gdp', 'pct_loss']].corr()"
   ]
  },
  {
   "cell_type": "code",
   "execution_count": 115,
   "metadata": {},
   "outputs": [
    {
     "data": {
      "text/plain": [
       "0.7669916726640665"
      ]
     },
     "execution_count": 115,
     "metadata": {},
     "output_type": "execute_result"
    }
   ],
   "source": [
    "df.pct_loss.mean()"
   ]
  },
  {
   "cell_type": "code",
   "execution_count": 116,
   "metadata": {},
   "outputs": [
    {
     "data": {
      "text/html": [
       "<div>\n",
       "<style scoped>\n",
       "    .dataframe tbody tr th:only-of-type {\n",
       "        vertical-align: middle;\n",
       "    }\n",
       "\n",
       "    .dataframe tbody tr th {\n",
       "        vertical-align: top;\n",
       "    }\n",
       "\n",
       "    .dataframe thead th {\n",
       "        text-align: right;\n",
       "    }\n",
       "</style>\n",
       "<table border=\"1\" class=\"dataframe\">\n",
       "  <thead>\n",
       "    <tr style=\"text-align: right;\">\n",
       "      <th></th>\n",
       "      <th>pais</th>\n",
       "      <th>pct_loss</th>\n",
       "      <th>IncomeGroup</th>\n",
       "      <th>gdp</th>\n",
       "      <th>gdp_pc</th>\n",
       "      <th>Output-CLI percent impact</th>\n",
       "      <th>pop</th>\n",
       "      <th>TotalDeaths31/03</th>\n",
       "      <th>continent</th>\n",
       "    </tr>\n",
       "  </thead>\n",
       "  <tbody>\n",
       "    <tr>\n",
       "      <th>58</th>\n",
       "      <td>Poland</td>\n",
       "      <td>0.997273</td>\n",
       "      <td>High income</td>\n",
       "      <td>5.860000e+11</td>\n",
       "      <td>1.542091e+09</td>\n",
       "      <td>2.248070</td>\n",
       "      <td>3.797475e+07</td>\n",
       "      <td>31.0</td>\n",
       "      <td>Europe</td>\n",
       "    </tr>\n",
       "    <tr>\n",
       "      <th>59</th>\n",
       "      <td>Portugal</td>\n",
       "      <td>0.996271</td>\n",
       "      <td>High income</td>\n",
       "      <td>2.410000e+11</td>\n",
       "      <td>2.340791e+09</td>\n",
       "      <td>8.163515</td>\n",
       "      <td>1.028382e+07</td>\n",
       "      <td>140.0</td>\n",
       "      <td>Europe</td>\n",
       "    </tr>\n",
       "    <tr>\n",
       "      <th>22</th>\n",
       "      <td>Czech Republic</td>\n",
       "      <td>0.995371</td>\n",
       "      <td>High income</td>\n",
       "      <td>2.450000e+11</td>\n",
       "      <td>2.307857e+09</td>\n",
       "      <td>7.768097</td>\n",
       "      <td>1.062993e+07</td>\n",
       "      <td>24.0</td>\n",
       "      <td>Europe</td>\n",
       "    </tr>\n",
       "    <tr>\n",
       "      <th>62</th>\n",
       "      <td>Romania</td>\n",
       "      <td>0.994685</td>\n",
       "      <td>Upper middle income</td>\n",
       "      <td>2.400000e+11</td>\n",
       "      <td>1.230119e+08</td>\n",
       "      <td>NaN</td>\n",
       "      <td>1.946614e+07</td>\n",
       "      <td>44.0</td>\n",
       "      <td>Europe</td>\n",
       "    </tr>\n",
       "    <tr>\n",
       "      <th>35</th>\n",
       "      <td>Hungary</td>\n",
       "      <td>0.993987</td>\n",
       "      <td>High income</td>\n",
       "      <td>1.580000e+11</td>\n",
       "      <td>1.616198e+09</td>\n",
       "      <td>4.287424</td>\n",
       "      <td>9.775564e+06</td>\n",
       "      <td>16.0</td>\n",
       "      <td>Europe</td>\n",
       "    </tr>\n",
       "    <tr>\n",
       "      <th>73</th>\n",
       "      <td>Spain</td>\n",
       "      <td>0.993615</td>\n",
       "      <td>High income</td>\n",
       "      <td>1.420000e+12</td>\n",
       "      <td>3.037089e+09</td>\n",
       "      <td>6.550587</td>\n",
       "      <td>4.679654e+07</td>\n",
       "      <td>7340.0</td>\n",
       "      <td>Europe</td>\n",
       "    </tr>\n",
       "    <tr>\n",
       "      <th>14</th>\n",
       "      <td>Bulgaria</td>\n",
       "      <td>0.993181</td>\n",
       "      <td>Upper middle income</td>\n",
       "      <td>6.513295e+10</td>\n",
       "      <td>9.272629e+09</td>\n",
       "      <td>NaN</td>\n",
       "      <td>7.025037e+06</td>\n",
       "      <td>8.0</td>\n",
       "      <td>Europe</td>\n",
       "    </tr>\n",
       "    <tr>\n",
       "      <th>4</th>\n",
       "      <td>Austria</td>\n",
       "      <td>0.991961</td>\n",
       "      <td>High income</td>\n",
       "      <td>4.550000e+11</td>\n",
       "      <td>5.146195e+09</td>\n",
       "      <td>4.747321</td>\n",
       "      <td>8.840521e+06</td>\n",
       "      <td>108.0</td>\n",
       "      <td>Europe</td>\n",
       "    </tr>\n",
       "    <tr>\n",
       "      <th>37</th>\n",
       "      <td>India</td>\n",
       "      <td>0.991254</td>\n",
       "      <td>Lower middle income</td>\n",
       "      <td>2.720000e+12</td>\n",
       "      <td>2.009979e+09</td>\n",
       "      <td>4.652658</td>\n",
       "      <td>1.352617e+09</td>\n",
       "      <td>32.0</td>\n",
       "      <td>Asia</td>\n",
       "    </tr>\n",
       "    <tr>\n",
       "      <th>71</th>\n",
       "      <td>South Africa</td>\n",
       "      <td>0.989719</td>\n",
       "      <td>Upper middle income</td>\n",
       "      <td>3.680000e+11</td>\n",
       "      <td>6.374028e+09</td>\n",
       "      <td>-0.537225</td>\n",
       "      <td>5.777962e+07</td>\n",
       "      <td>3.0</td>\n",
       "      <td>Africa</td>\n",
       "    </tr>\n",
       "  </tbody>\n",
       "</table>\n",
       "</div>"
      ],
      "text/plain": [
       "              pais  pct_loss          IncomeGroup           gdp        gdp_pc  \\\n",
       "58          Poland  0.997273          High income  5.860000e+11  1.542091e+09   \n",
       "59        Portugal  0.996271          High income  2.410000e+11  2.340791e+09   \n",
       "22  Czech Republic  0.995371          High income  2.450000e+11  2.307857e+09   \n",
       "62         Romania  0.994685  Upper middle income  2.400000e+11  1.230119e+08   \n",
       "35         Hungary  0.993987          High income  1.580000e+11  1.616198e+09   \n",
       "73           Spain  0.993615          High income  1.420000e+12  3.037089e+09   \n",
       "14        Bulgaria  0.993181  Upper middle income  6.513295e+10  9.272629e+09   \n",
       "4          Austria  0.991961          High income  4.550000e+11  5.146195e+09   \n",
       "37           India  0.991254  Lower middle income  2.720000e+12  2.009979e+09   \n",
       "71    South Africa  0.989719  Upper middle income  3.680000e+11  6.374028e+09   \n",
       "\n",
       "    Output-CLI percent impact           pop  TotalDeaths31/03 continent  \n",
       "58                   2.248070  3.797475e+07              31.0    Europe  \n",
       "59                   8.163515  1.028382e+07             140.0    Europe  \n",
       "22                   7.768097  1.062993e+07              24.0    Europe  \n",
       "62                        NaN  1.946614e+07              44.0    Europe  \n",
       "35                   4.287424  9.775564e+06              16.0    Europe  \n",
       "73                   6.550587  4.679654e+07            7340.0    Europe  \n",
       "14                        NaN  7.025037e+06               8.0    Europe  \n",
       "4                    4.747321  8.840521e+06             108.0    Europe  \n",
       "37                   4.652658  1.352617e+09              32.0      Asia  \n",
       "71                  -0.537225  5.777962e+07               3.0    Africa  "
      ]
     },
     "execution_count": 116,
     "metadata": {},
     "output_type": "execute_result"
    }
   ],
   "source": [
    "df.nlargest(10, 'pct_loss')"
   ]
  },
  {
   "cell_type": "code",
   "execution_count": 117,
   "metadata": {},
   "outputs": [
    {
     "data": {
      "text/plain": [
       "(0.95, 1)"
      ]
     },
     "execution_count": 117,
     "metadata": {},
     "output_type": "execute_result"
    },
    {
     "data": {
      "image/png": "[encoded data removed]",
      "text/plain": [
       "<Figure size 432x288 with 1 Axes>"
      ]
     },
     "metadata": {},
     "output_type": "display_data"
    }
   ],
   "source": [
    "ax = sns.barplot(x = 'pct_loss', y = 'pais', data=df.nlargest(15, 'pct_loss'))\n",
    "ax.set_xlim(0.95, 1)"
   ]
  },
  {
   "cell_type": "code",
   "execution_count": 12,
   "metadata": {},
   "outputs": [
    {
     "data": {
      "text/plain": [
       "(0.8, 1)"
      ]
     },
     "execution_count": 12,
     "metadata": {},
     "output_type": "execute_result"
    },
    {
     "data": {
      "image/png": "[encoded data removed]",
      "text/plain": [
       "<Figure size 720x720 with 1 Axes>"
      ]
     },
     "metadata": {},
     "output_type": "display_data"
    }
   ],
   "source": [
    "plt.figure(figsize = (10, 10))\n",
    "ax = sns.barplot(x = 'pct_loss', y = 'pais', data=df.nlargest(40, 'pct_loss'))\n",
    "ax.set_xlim(0.8, 1)"
   ]
  },
  {
   "cell_type": "code",
   "execution_count": 119,
   "metadata": {},
   "outputs": [
    {
     "data": {
      "image/png": "[encoded data removed]",
      "text/plain": [
       "<Figure size 432x288 with 1 Axes>"
      ]
     },
     "metadata": {},
     "output_type": "display_data"
    }
   ],
   "source": [
    "ax = sns.scatterplot(x=\"pct_loss\", y=\"gdp\", hue=\"continent\", size='pop', sizes=(15, 400), data=df[df.pct_loss > 0.7])\n",
    "ax.set(yticks=[])\n",
    "plt.show()"
   ]
  },
  {
   "cell_type": "code",
   "execution_count": 120,
   "metadata": {},
   "outputs": [
    {
     "data": {
      "image/png": "[encoded data removed]",
      "text/plain": [
       "<Figure size 432x288 with 1 Axes>"
      ]
     },
     "metadata": {},
     "output_type": "display_data"
    }
   ],
   "source": [
    "ax = sns.scatterplot(x=\"pct_loss\", y=\"gdp_pc\", hue=\"continent\", size='pop', sizes=(15, 400), data=df[df.pct_loss > 0.7])\n",
    "ax.set(yticks=[])\n",
    "plt.show()"
   ]
  },
  {
   "cell_type": "code",
   "execution_count": 121,
   "metadata": {},
   "outputs": [
    {
     "data": {
      "image/png": "[encoded data removed]",
      "text/plain": [
       "<Figure size 432x288 with 1 Axes>"
      ]
     },
     "metadata": {},
     "output_type": "display_data"
    }
   ],
   "source": [
    "ax = sns.scatterplot(x=\"pct_loss\", y=\"Output-CLI percent impact\", hue=\"continent\", size='pop', sizes=(15, 400), data=df[df.pct_loss > 0.7])\n",
    "plt.show()"
   ]
  },
  {
   "cell_type": "code",
   "execution_count": 123,
   "metadata": {},
   "outputs": [
    {
     "data": {
      "image/png": "[encoded data removed]",
      "text/plain": [
       "<Figure size 432x288 with 1 Axes>"
      ]
     },
     "metadata": {},
     "output_type": "display_data"
    }
   ],
   "source": [
    "ax = sns.scatterplot(x=\"pct_loss\", y=\"TotalDeaths31/03\", hue=\"continent\", size='pop', sizes=(15, 400), data=df[df.pct_loss > 0.7])\n",
    "plt.show()"
   ]
  }
 ],
 "metadata": {
  "kernelspec": {
   "display_name": "Python 3",
   "language": "python",
   "name": "python3"
  },
  "language_info": {
   "codemirror_mode": {
    "name": "ipython",
    "version": 3
   },
   "file_extension": ".py",
   "mimetype": "text/x-python",
   "name": "python",
   "nbconvert_exporter": "python",
   "pygments_lexer": "ipython3",
   "version": "3.6.4"
  }
 },
 "nbformat": 4,
 "nbformat_minor": 2
}
